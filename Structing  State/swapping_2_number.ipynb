{
 "cells": [
  {
   "cell_type": "markdown",
   "id": "ec27016d",
   "metadata": {},
   "source": [
    "# write a program in python swapping two number using 3rd variable\n"
   ]
  },
  {
   "cell_type": "code",
   "execution_count": 1,
   "id": "ec15022a",
   "metadata": {},
   "outputs": [
    {
     "name": "stdout",
     "output_type": "stream",
     "text": [
      "Before Swapping 1st number:12\n",
      "Before Swapping 2nd number:15\n",
      "After Swapping 1st number: 15\n",
      "After Swapping 2nd number: 12\n"
     ]
    }
   ],
   "source": [
    "a=int(input(\"Before Swapping 1st number:\"))\n",
    "b=int(input(\"Before Swapping 2nd number:\"))\n",
    "c=a\n",
    "a=b\n",
    "b=c\n",
    "print(\"After Swapping 1st number:\",a)\n",
    "print(\"After Swapping 2nd number:\",b)"
   ]
  },
  {
   "cell_type": "markdown",
   "id": "74691a2f",
   "metadata": {},
   "source": [
    "# write a program in python swapping two number without using 3rd variable"
   ]
  },
  {
   "cell_type": "code",
   "execution_count": 3,
   "id": "7d03d10a",
   "metadata": {},
   "outputs": [
    {
     "name": "stdout",
     "output_type": "stream",
     "text": [
      "Before Swapping 1st number:10\n",
      "Before Swapping 2nd number:40\n",
      "After Swapping 1st number: 40\n",
      "After Swapping 2nd number: 10\n"
     ]
    }
   ],
   "source": [
    "a=int(input(\"Before Swapping 1st number:\"))\n",
    "b=int(input(\"Before Swapping 2nd number:\"))\n",
    "a=a+b\n",
    "b=a-b\n",
    "a=a-b\n",
    "print(\"After Swapping 1st number:\",a)\n",
    "print(\"After Swapping 2nd number:\",b)"
   ]
  },
  {
   "cell_type": "code",
   "execution_count": null,
   "id": "5f1ee5e9",
   "metadata": {},
   "outputs": [],
   "source": []
  }
 ],
 "metadata": {
  "kernelspec": {
   "display_name": "Python 3 (ipykernel)",
   "language": "python",
   "name": "python3"
  },
  "language_info": {
   "codemirror_mode": {
    "name": "ipython",
    "version": 3
   },
   "file_extension": ".py",
   "mimetype": "text/x-python",
   "name": "python",
   "nbconvert_exporter": "python",
   "pygments_lexer": "ipython3",
   "version": "3.8.10"
  }
 },
 "nbformat": 4,
 "nbformat_minor": 5
}
