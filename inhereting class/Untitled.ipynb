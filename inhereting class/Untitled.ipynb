{
 "cells": [
  {
   "cell_type": "code",
   "execution_count": 9,
   "id": "8d0846c0",
   "metadata": {},
   "outputs": [
    {
     "name": "stdout",
     "output_type": "stream",
     "text": [
      "this is first\n",
      "this is second\n",
      "this is third\n"
     ]
    }
   ],
   "source": [
    "class A():\n",
    "    def first(self):\n",
    "        print(\"this is first\")\n",
    "class B():\n",
    "    def second(self):\n",
    "        print(\"this is second\")\n",
    "class C(A, B):\n",
    "    def third(self):\n",
    "        print(\"this is third\")\n",
    "obj = C()\n",
    "obj.first()\n",
    "obj.second()\n",
    "obj.third()"
   ]
  },
  {
   "cell_type": "code",
   "execution_count": null,
   "id": "cba7fa97",
   "metadata": {},
   "outputs": [],
   "source": []
  }
 ],
 "metadata": {
  "kernelspec": {
   "display_name": "Python 3 (ipykernel)",
   "language": "python",
   "name": "python3"
  },
  "language_info": {
   "codemirror_mode": {
    "name": "ipython",
    "version": 3
   },
   "file_extension": ".py",
   "mimetype": "text/x-python",
   "name": "python",
   "nbconvert_exporter": "python",
   "pygments_lexer": "ipython3",
   "version": "3.8.10"
  }
 },
 "nbformat": 4,
 "nbformat_minor": 5
}
