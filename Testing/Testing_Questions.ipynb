{
 "cells": [
  {
   "cell_type": "markdown",
   "id": "7119a568",
   "metadata": {},
   "source": [
    "# Write a test program for the stack implementation"
   ]
  },
  {
   "cell_type": "code",
   "execution_count": 1,
   "id": "37be4e2e",
   "metadata": {},
   "outputs": [
    {
     "name": "stdout",
     "output_type": "stream",
     "text": [
      " The stack is:  ['Software Engineer', 'Software Developer', 'IT Administrator', 'Quality Analyst', 'Business Analyst', 'General Manager']\n"
     ]
    }
   ],
   "source": [
    "stack = []\n",
    "stack.append('Software Engineer')\n",
    "stack.append('Software Developer')\n",
    "stack.append('IT Administrator')\n",
    "stack.append('Quality Analyst')\n",
    "stack.append('Business Analyst')\n",
    "stack.append('General Manager')\n",
    "print( \" The stack is: \", stack )"
   ]
  },
  {
   "cell_type": "code",
   "execution_count": 9,
   "id": "a481774f",
   "metadata": {},
   "outputs": [
    {
     "name": "stdout",
     "output_type": "stream",
     "text": [
      "1\n",
      "2\n",
      "3\n",
      "4\n",
      "5\n",
      "6\n",
      "7\n",
      "8\n",
      "9\n",
      "10\n"
     ]
    }
   ],
   "source": [
    "for i in range(1, 11, 1):\n",
    "    print(i)"
   ]
  },
  {
   "cell_type": "code",
   "execution_count": 15,
   "id": "d3f96e3e",
   "metadata": {},
   "outputs": [
    {
     "name": "stdout",
     "output_type": "stream",
     "text": [
      "6\n"
     ]
    }
   ],
   "source": [
    "l = [1, 2, 3, 4, 5]\n",
    "l2=l[3] = 6\n",
    "print(l2)"
   ]
  },
  {
   "cell_type": "markdown",
   "id": "1ab503ba",
   "metadata": {},
   "source": [
    "# Complete the Matrix adding,subtraction and division operations."
   ]
  },
  {
   "cell_type": "code",
   "execution_count": 19,
   "id": "85ecb8d6",
   "metadata": {},
   "outputs": [
    {
     "name": "stdout",
     "output_type": "stream",
     "text": [
      "The element wise addition of matrix is : \n",
      "[[ 8 10]\n",
      " [13 15]]\n",
      "The element wise subtraction of matrix is : \n",
      "[[-6 -6]\n",
      " [-5 -5]]\n",
      "The element wise division of matrix is : \n",
      "[[0.14285714 0.25      ]\n",
      " [0.44444444 0.5       ]]\n"
     ]
    }
   ],
   "source": [
    "import numpy \n",
    "  \n",
    "x = numpy.array([[1, 2], [4, 5]])\n",
    "y = numpy.array([[7, 8], [9, 10]])\n",
    "  \n",
    "# using add() to add matrices\n",
    "print (\"The element wise addition of matrix is : \")\n",
    "print (numpy.add(x,y))\n",
    "  \n",
    "# using subtract() to subtract matrices\n",
    "print (\"The element wise subtraction of matrix is : \")\n",
    "print (numpy.subtract(x,y))\n",
    "  \n",
    "# using divide() to divide matrices\n",
    "print (\"The element wise division of matrix is : \")\n",
    "print (numpy.divide(x,y))"
   ]
  },
  {
   "cell_type": "code",
   "execution_count": null,
   "id": "f81d8d21",
   "metadata": {},
   "outputs": [],
   "source": []
  }
 ],
 "metadata": {
  "kernelspec": {
   "display_name": "Python 3 (ipykernel)",
   "language": "python",
   "name": "python3"
  },
  "language_info": {
   "codemirror_mode": {
    "name": "ipython",
    "version": 3
   },
   "file_extension": ".py",
   "mimetype": "text/x-python",
   "name": "python",
   "nbconvert_exporter": "python",
   "pygments_lexer": "ipython3",
   "version": "3.8.10"
  }
 },
 "nbformat": 4,
 "nbformat_minor": 5
}
