{
 "cells": [
  {
   "cell_type": "code",
   "execution_count": 9,
   "id": "8d0846c0",
   "metadata": {},
   "outputs": [
    {
     "name": "stdout",
     "output_type": "stream",
     "text": [
      "this is first\n",
      "this is second\n",
      "this is third\n"
     ]
    }
   ],
   "source": [
    "class A():\n",
    "    def first(self):\n",
    "        print(\"this is first\")\n",
    "class B():\n",
    "    def second(self):\n",
    "        print(\"this is second\")\n",
    "class C(A, B):\n",
    "    def third(self):\n",
    "        print(\"this is third\")\n",
    "obj = C()\n",
    "obj.first()\n",
    "obj.second()\n",
    "obj.third()"
   ]
  },
  {
   "cell_type": "code",
   "execution_count": 6,
   "id": "cba7fa97",
   "metadata": {},
   "outputs": [
    {
     "name": "stdout",
     "output_type": "stream",
     "text": [
      "credited in account\n",
      "debit in Mini_Account\n",
      "withdrawl\n"
     ]
    }
   ],
   "source": [
    "class Account:\n",
    "    def credit(self):\n",
    "        print ('credited in account')\n",
    "        \n",
    "class Mini_Account(Account):\n",
    "    def debit(self):\n",
    "        print ('debit in Mini_Account')\n",
    "\n",
    "class Master_Account(Mini_Account):\n",
    "    def withdrawl(self):\n",
    "        print ('withdrawl')\n",
    "        \n",
    "a=Master_Account()\n",
    "a.credit()\n",
    "a.debit()\n",
    "a.withdrawl()"
   ]
  },
  {
   "cell_type": "code",
   "execution_count": null,
   "id": "7a3235de",
   "metadata": {},
   "outputs": [],
   "source": []
  }
 ],
 "metadata": {
  "kernelspec": {
   "display_name": "Python 3 (ipykernel)",
   "language": "python",
   "name": "python3"
  },
  "language_info": {
   "codemirror_mode": {
    "name": "ipython",
    "version": 3
   },
   "file_extension": ".py",
   "mimetype": "text/x-python",
   "name": "python",
   "nbconvert_exporter": "python",
   "pygments_lexer": "ipython3",
   "version": "3.8.10"
  }
 },
 "nbformat": 4,
 "nbformat_minor": 5
}
