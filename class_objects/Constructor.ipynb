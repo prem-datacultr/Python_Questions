{
 "cells": [
  {
   "cell_type": "code",
   "execution_count": 18,
   "id": "60731525",
   "metadata": {},
   "outputs": [
    {
     "name": "stdout",
     "output_type": "stream",
     "text": [
      "this is my first constuctor\n",
      "this is method\n"
     ]
    }
   ],
   "source": [
    "class prem :\n",
    "    def __init__ (self) :\n",
    "        print(\"this is my first constuctor\")\n",
    "    def show (a):\n",
    "        print(\"this is method\")\n",
    "obj=prem()\n",
    "obj.show()"
   ]
  },
  {
   "cell_type": "code",
   "execution_count": 17,
   "id": "38ba19f3",
   "metadata": {},
   "outputs": [
    {
     "name": "stdout",
     "output_type": "stream",
     "text": [
      "1\n"
     ]
    }
   ],
   "source": [
    "class Foo :\n",
    "    def __init__ ( self ) :\n",
    "        self.foo = 1\n",
    "    def bar ( flibble ) :\n",
    "        print (flibble.foo)\n",
    "obj=Foo()\n",
    "obj.bar()"
   ]
  },
  {
   "cell_type": "code",
   "execution_count": 23,
   "id": "4c86cddc",
   "metadata": {},
   "outputs": [
    {
     "data": {
      "text/plain": [
       "3"
      ]
     },
     "execution_count": 23,
     "metadata": {},
     "output_type": "execute_result"
    }
   ],
   "source": [
    "import random\n",
    "class Student:\n",
    "    def __init__ ( self , sides ) :\n",
    "        assert type ( sides ) == type ( 0 )\n",
    "        assert sides > 0\n",
    "        self.sides = sides\n",
    "        self.generator = random.Random ( )\n",
    "        self.current = 1\n",
    "        self.representations = map ( lambda x : '*' * x , range ( self.sides + 1 ) )\n",
    "    def __str__ ( self ) :\n",
    "        return self.representations[self.current]\n",
    "    def roll ( self ) :\n",
    "        self.current = self.generator.randint ( 1 , self.sides )\n",
    "        return self.current\n",
    "obj=Student(3)\n",
    "obj.roll()"
   ]
  },
  {
   "cell_type": "code",
   "execution_count": 3,
   "id": "ba9e1df8",
   "metadata": {},
   "outputs": [
    {
     "name": "stdout",
     "output_type": "stream",
     "text": [
      "Hello How Are You\n"
     ]
    }
   ],
   "source": [
    "class Person:\n",
    "    def __init__(self, name, age):\n",
    "        self.name = name\n",
    "        self.age = age\n",
    "   \n",
    "    def sayHi(self):\n",
    "        print('Hello How Are You')\n",
    "    \n",
    "p1 = Person('Bob', 25)\n",
    "p1.sayHi() "
   ]
  },
  {
   "cell_type": "code",
   "execution_count": null,
   "id": "62189edc",
   "metadata": {},
   "outputs": [],
   "source": []
  }
 ],
 "metadata": {
  "kernelspec": {
   "display_name": "Python 3 (ipykernel)",
   "language": "python",
   "name": "python3"
  },
  "language_info": {
   "codemirror_mode": {
    "name": "ipython",
    "version": 3
   },
   "file_extension": ".py",
   "mimetype": "text/x-python",
   "name": "python",
   "nbconvert_exporter": "python",
   "pygments_lexer": "ipython3",
   "version": "3.8.10"
  }
 },
 "nbformat": 4,
 "nbformat_minor": 5
}
