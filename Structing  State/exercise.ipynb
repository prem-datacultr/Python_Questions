{
 "cells": [
  {
   "cell_type": "code",
   "execution_count": 1,
   "id": "5bb13cf2",
   "metadata": {},
   "outputs": [
    {
     "name": "stdout",
     "output_type": "stream",
     "text": [
      "1\n"
     ]
    }
   ],
   "source": [
    "a=1\n",
    "def f ( ) :\n",
    "    a = 10\n",
    "print (a)"
   ]
  },
  {
   "cell_type": "code",
   "execution_count": 2,
   "id": "19072157",
   "metadata": {},
   "outputs": [
    {
     "data": {
      "text/plain": [
       "[1, 2, 3, 4, 5]"
      ]
     },
     "execution_count": 2,
     "metadata": {},
     "output_type": "execute_result"
    }
   ],
   "source": [
    "x=[1,2,3,4,5]\n",
    "y=x[:]\n",
    "y"
   ]
  },
  {
   "cell_type": "code",
   "execution_count": 3,
   "id": "127ab036",
   "metadata": {},
   "outputs": [],
   "source": [
    "cards = [ 1 , 5 , 3 , 4 , 2 , 3 , 2 ]\n",
    "def nextCard ( cards ) :\n",
    "    next = cards[0]\n",
    "    newHand = cards[1:] + [ cards[0] ]\n",
    "    return next , newHand"
   ]
  },
  {
   "cell_type": "markdown",
   "id": "80d053f6",
   "metadata": {},
   "source": [
    "# Write the Python program that manages the state of the two-bit binary counter"
   ]
  },
  {
   "cell_type": "code",
   "execution_count": 5,
   "id": "b7445625",
   "metadata": {},
   "outputs": [
    {
     "name": "stdout",
     "output_type": "stream",
     "text": [
      "2\n"
     ]
    }
   ],
   "source": [
    "def  countSetBits(n):\n",
    "    count = 0\n",
    "    while (n):\n",
    "        count += n & 1\n",
    "        n >>= 1\n",
    "    return count\n",
    "  \n",
    "i = 9\n",
    "print(countSetBits(i))"
   ]
  },
  {
   "cell_type": "markdown",
   "id": "c0de85f6",
   "metadata": {},
   "source": [
    "# write a function to sort the list "
   ]
  },
  {
   "cell_type": "code",
   "execution_count": 2,
   "id": "a8ce3a10",
   "metadata": {},
   "outputs": [
    {
     "name": "stdout",
     "output_type": "stream",
     "text": [
      "[1, 2, 6, 22, 43, 54, 78, 99]\n"
     ]
    }
   ],
   "source": [
    "li=[ 43 , 1 , 2 , 99 , 54 , 78 , 22 , 6 ]\n",
    "li.sort()\n",
    "print(li)"
   ]
  },
  {
   "cell_type": "code",
   "execution_count": 14,
   "id": "e9cc42e7",
   "metadata": {},
   "outputs": [
    {
     "name": "stdout",
     "output_type": "stream",
     "text": [
      "[20600.0, 22145.0, 23690.0, 25235.0, 26780.0, 28325.0, 29870.0]\n"
     ]
    }
   ],
   "source": [
    "salaryScale = [ 20000 , 21500 , 23000 , 24500 , 26000 , 27500 , 29000 ]\n",
    "for i in range ( len ( salaryScale ) ) :\n",
    "    salaryScale[i] += salaryScale[i] * 0.03\n",
    "print (salaryScale)"
   ]
  },
  {
   "cell_type": "code",
   "execution_count": 15,
   "id": "dcda967d",
   "metadata": {},
   "outputs": [],
   "source": [
    "def getIntegerValue ( buffer ) :\n",
    "    isNegative = False\n",
    "    if buffer[0] == '-' :\n",
    "        isNegative = True\n",
    "        buffer = buffer[1:]\n",
    "    for i in range ( len ( buffer ) ) :\n",
    "        if not buffer[i].isdigit ( ) : break\n",
    "    if isNegative:\n",
    "        return -1 * int ( buffer [:(i+1)] )\n",
    "    else:\n",
    "        return int ( buffer [:(i+1)] )"
   ]
  },
  {
   "cell_type": "code",
   "execution_count": null,
   "id": "095f9045",
   "metadata": {},
   "outputs": [],
   "source": []
  }
 ],
 "metadata": {
  "kernelspec": {
   "display_name": "Python 3 (ipykernel)",
   "language": "python",
   "name": "python3"
  },
  "language_info": {
   "codemirror_mode": {
    "name": "ipython",
    "version": 3
   },
   "file_extension": ".py",
   "mimetype": "text/x-python",
   "name": "python",
   "nbconvert_exporter": "python",
   "pygments_lexer": "ipython3",
   "version": "3.8.10"
  }
 },
 "nbformat": 4,
 "nbformat_minor": 5
}
