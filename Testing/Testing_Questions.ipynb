{
 "cells": [
  {
   "cell_type": "markdown",
   "id": "7119a568",
   "metadata": {},
   "source": [
    "# Write a test program for the stack implementation"
   ]
  },
  {
   "cell_type": "code",
   "execution_count": 1,
   "id": "37be4e2e",
   "metadata": {},
   "outputs": [
    {
     "name": "stdout",
     "output_type": "stream",
     "text": [
      " The stack is:  ['Software Engineer', 'Software Developer', 'IT Administrator', 'Quality Analyst', 'Business Analyst', 'General Manager']\n"
     ]
    }
   ],
   "source": [
    "stack = []\n",
    "stack.append('Software Engineer')\n",
    "stack.append('Software Developer')\n",
    "stack.append('IT Administrator')\n",
    "stack.append('Quality Analyst')\n",
    "stack.append('Business Analyst')\n",
    "stack.append('General Manager')\n",
    "print( \" The stack is: \", stack )"
   ]
  },
  {
   "cell_type": "code",
   "execution_count": null,
   "id": "a481774f",
   "metadata": {},
   "outputs": [],
   "source": []
  }
 ],
 "metadata": {
  "kernelspec": {
   "display_name": "Python 3 (ipykernel)",
   "language": "python",
   "name": "python3"
  },
  "language_info": {
   "codemirror_mode": {
    "name": "ipython",
    "version": 3
   },
   "file_extension": ".py",
   "mimetype": "text/x-python",
   "name": "python",
   "nbconvert_exporter": "python",
   "pygments_lexer": "ipython3",
   "version": "3.8.10"
  }
 },
 "nbformat": 4,
 "nbformat_minor": 5
}
